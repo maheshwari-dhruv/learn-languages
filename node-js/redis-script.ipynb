{
 "cells": [
  {
   "cell_type": "code",
   "execution_count": 6,
   "metadata": {},
   "outputs": [],
   "source": [
    "import redis\n",
    "r = redis.StrictRedis(host='cluster4-uat.8zqbzc.0001.apse1.cache.amazonaws.com', port=6379, db=0)"
   ]
  },
  {
   "cell_type": "code",
   "execution_count": 12,
   "metadata": {},
   "outputs": [
    {
     "name": "stdout",
     "output_type": "stream",
     "text": [
      "b'APMGN_d0fe5e87-36fe-4843-ac0d-0cdedcd235ea'\n",
      "b'channel': b'GCASH_APP'\n",
      "b'sessionId': b'APMGN_d0fe5e87-36fe-4843-ac0d-0cdedcd235ea'\n",
      "b'msisdn': b'09672370182'\n",
      "-------\n",
      "b'otp:user:web_reg:H52f1242ede54772823c72019f90e5f2'\n",
      "b'msisdn': b'09214398210'\n",
      "-------\n",
      "b'otp:user:secret:H561373e7cbc472781ff035a7617f1bf'\n",
      "b'msisdn': b'09971748506'\n",
      "-------\n",
      "b'APMGN_b156363c-9636-4c40-9dcb-fa7bfd53bbe6'\n",
      "b'channel': b'GCASH_APP'\n",
      "b'sessionId': b'APMGN_b156363c-9636-4c40-9dcb-fa7bfd53bbe6'\n",
      "b'msisdn': b'09672370454'\n",
      "-------\n",
      "b'APMGN_a129e91c-1308-4810-aa0f-138318728d1c'\n",
      "b'channel': b'GCASH_APP'\n",
      "b'sessionId': b'APMGN_a129e91c-1308-4810-aa0f-138318728d1c'\n",
      "b'msisdn': b'09672370207'\n",
      "-------\n"
     ]
    }
   ],
   "source": [
    "count = 0\n",
    "for key in r.scan_iter(\"*\"):\n",
    "    count = count + 1\n",
    "    print(key)\n",
    "\n",
    "    for keys, values in r.hgetall(key).items():\n",
    "        print(\"{keys}: {values}\".format(keys=keys, values=values))\n",
    "\n",
    "    print(\"-------\")\n",
    "    if (count >= 5):\n",
    "        break;"
   ]
  }
 ],
 "metadata": {
  "kernelspec": {
   "display_name": "Python 3.10.1 64-bit",
   "language": "python",
   "name": "python3"
  },
  "language_info": {
   "codemirror_mode": {
    "name": "ipython",
    "version": 3
   },
   "file_extension": ".py",
   "mimetype": "text/x-python",
   "name": "python",
   "nbconvert_exporter": "python",
   "pygments_lexer": "ipython3",
   "version": "3.10.1"
  },
  "orig_nbformat": 4,
  "vscode": {
   "interpreter": {
    "hash": "369f2c481f4da34e4445cda3fffd2e751bd1c4d706f27375911949ba6bb62e1c"
   }
  }
 },
 "nbformat": 4,
 "nbformat_minor": 2
}
